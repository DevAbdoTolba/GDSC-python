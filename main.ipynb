{
 "cells": [
  {
   "cell_type": "code",
   "execution_count": 2,
   "metadata": {},
   "outputs": [],
   "source": [
    "from Fifth.exception import *\n"
   ]
  },
  {
   "cell_type": "code",
   "execution_count": null,
   "metadata": {},
   "outputs": [],
   "source": [
    "from Sixth.file import *"
   ]
  },
  {
   "attachments": {},
   "cell_type": "markdown",
   "metadata": {},
   "source": [
    "# =====================================================================================================\n",
    "# ======================================================================= EXCEPTION ===================\n",
    "# ====================================================================================================="
   ]
  },
  {
   "cell_type": "code",
   "execution_count": null,
   "metadata": {},
   "outputs": [],
   "source": [
    "syntax Error\n",
    "print(\"Hello World)\n"
   ]
  },
  {
   "cell_type": "code",
   "execution_count": null,
   "metadata": {},
   "outputs": [],
   "source": [
    "\n",
    "valueError\n",
    "x = int(\"Hello\") #! You can't convert a string that doesn't represents a number into an integer\n"
   ]
  },
  {
   "cell_type": "code",
   "execution_count": null,
   "metadata": {},
   "outputs": [],
   "source": [
    "\n",
    "nameError\n",
    "print(x) # ! X is never defined!\n"
   ]
  },
  {
   "cell_type": "code",
   "execution_count": null,
   "metadata": {},
   "outputs": [],
   "source": [
    "\n",
    "typeError\n",
    "print(5 + \"5\") #! You can't add a string to an integer, you must convert the string to an integer first\n"
   ]
  },
  {
   "cell_type": "code",
   "execution_count": 3,
   "metadata": {},
   "outputs": [
    {
     "ename": "NameError",
     "evalue": "name 'exception' is not defined",
     "output_type": "error",
     "traceback": [
      "\u001b[0;31m---------------------------------------------------------------------------\u001b[0m",
      "\u001b[0;31mNameError\u001b[0m                                 Traceback (most recent call last)",
      "Cell \u001b[0;32mIn[3], line 3\u001b[0m\n\u001b[1;32m      1\u001b[0m x \u001b[39m=\u001b[39m \u001b[39m1\u001b[39m\n\u001b[0;32m----> 3\u001b[0m exception(x) \u001b[39m# 1 is no error, 2 syntax, 3 value, 4 name\u001b[39;00m\n",
      "\u001b[0;31mNameError\u001b[0m: name 'exception' is not defined"
     ]
    }
   ],
   "source": [
    "\n",
    "x = 1\n",
    "\n",
    "exception(x) # 1 is no error, 2 syntax, 3 value, 4 name\n"
   ]
  },
  {
   "cell_type": "code",
   "execution_count": null,
   "metadata": {},
   "outputs": [],
   "source": [
    "# error() # TODO This will raise an error \n",
    "\n",
    "\n",
    "# XMOD self taught # TODO :D"
   ]
  },
  {
   "cell_type": "code",
   "execution_count": null,
   "metadata": {},
   "outputs": [],
   "source": [
    "%xmode Plain\n",
    "\n",
    "def divide_by_zero():\n",
    "    return 1/0\n",
    "    \n",
    "def call_divide_by_zero():\n",
    "    divide_by_zero()\n",
    "    \n",
    "call_divide_by_zero()\n"
   ]
  },
  {
   "cell_type": "code",
   "execution_count": null,
   "metadata": {},
   "outputs": [],
   "source": [
    "%xmode Verbose\n",
    "\n",
    "def divide_by_zero():\n",
    "    return 1/0\n",
    "    \n",
    "def call_divide_by_zero():\n",
    "    a = 5\n",
    "    b = 0\n",
    "    c = a/b\n",
    "    divide_by_zero()\n",
    "    \n",
    "call_divide_by_zero()"
   ]
  },
  {
   "cell_type": "code",
   "execution_count": null,
   "metadata": {},
   "outputs": [],
   "source": [
    "%xmode Context\n",
    "\n",
    "def divide_by_zero():\n",
    "    return 1/0\n",
    "    \n",
    "def call_divide_by_zero():\n",
    "    divide_by_zero()\n",
    "    \n",
    "call_divide_by_zero()\n"
   ]
  },
  {
   "attachments": {},
   "cell_type": "markdown",
   "metadata": {},
   "source": [
    "# ==============================================================================================================\n",
    "# ======================================================================= Packages & Modules ===================\n",
    "# =============================================================================================================="
   ]
  },
  {
   "cell_type": "code",
   "execution_count": 1,
   "metadata": {},
   "outputs": [
    {
     "name": "stdout",
     "output_type": "stream",
     "text": [
      "Hello World\n"
     ]
    }
   ],
   "source": [
    "import SayingHelloToTheWorldAllOfIt \n",
    "SayingHelloToTheWorldAllOfIt.SayHello()"
   ]
  },
  {
   "cell_type": "code",
   "execution_count": 5,
   "metadata": {},
   "outputs": [
    {
     "name": "stdout",
     "output_type": "stream",
     "text": [
      "Hello World\n"
     ]
    }
   ],
   "source": [
    "import SayingHelloToTheWorldAllOfIt as HelloWorld\n",
    "HelloWorld.SayHello()"
   ]
  },
  {
   "cell_type": "code",
   "execution_count": 15,
   "metadata": {},
   "outputs": [
    {
     "ename": "ImportError",
     "evalue": "cannot import name 'SayHelloName' from 'SayingHelloToTheWorldAllOfIt' (/mnt/74229179229140D2/Projects/Coding/VSCode/Python/GDSC python/SayingHelloToTheWorldAllOfIt.py)",
     "output_type": "error",
     "traceback": [
      "\u001b[0;31m---------------------------------------------------------------------------\u001b[0m",
      "\u001b[0;31mImportError\u001b[0m                               Traceback (most recent call last)",
      "Cell \u001b[0;32mIn[15], line 1\u001b[0m\n\u001b[0;32m----> 1\u001b[0m \u001b[39mfrom\u001b[39;00m \u001b[39mSayingHelloToTheWorldAllOfIt\u001b[39;00m \u001b[39mimport\u001b[39;00m SayHelloName\n\u001b[1;32m      3\u001b[0m SayHelloName(\u001b[39m\"\u001b[39m\u001b[39mHi\u001b[39m\u001b[39m\"\u001b[39m)\n",
      "\u001b[0;31mImportError\u001b[0m: cannot import name 'SayHelloName' from 'SayingHelloToTheWorldAllOfIt' (/mnt/74229179229140D2/Projects/Coding/VSCode/Python/GDSC python/SayingHelloToTheWorldAllOfIt.py)"
     ]
    }
   ],
   "source": [
    "from SayingHelloToTheWorldAllOfIt import SayHelloName\n",
    "\n",
    "SayHelloName(\"Hi\")\n"
   ]
  },
  {
   "cell_type": "code",
   "execution_count": 14,
   "metadata": {},
   "outputs": [
    {
     "ename": "ImportError",
     "evalue": "cannot import name 'SayHelloName' from 'SayingHelloToTheWorldAllOfIt' (/mnt/74229179229140D2/Projects/Coding/VSCode/Python/GDSC python/SayingHelloToTheWorldAllOfIt.py)",
     "output_type": "error",
     "traceback": [
      "\u001b[0;31m---------------------------------------------------------------------------\u001b[0m",
      "\u001b[0;31mImportError\u001b[0m                               Traceback (most recent call last)",
      "Cell \u001b[0;32mIn[14], line 1\u001b[0m\n\u001b[0;32m----> 1\u001b[0m \u001b[39mfrom\u001b[39;00m \u001b[39mSayingHelloToTheWorldAllOfIt\u001b[39;00m \u001b[39mimport\u001b[39;00m SayHelloName\n\u001b[1;32m      3\u001b[0m SayHelloName(\u001b[39m\"\u001b[39m\u001b[39mHi\u001b[39m\u001b[39m\"\u001b[39m)\n",
      "\u001b[0;31mImportError\u001b[0m: cannot import name 'SayHelloName' from 'SayingHelloToTheWorldAllOfIt' (/mnt/74229179229140D2/Projects/Coding/VSCode/Python/GDSC python/SayingHelloToTheWorldAllOfIt.py)"
     ]
    }
   ],
   "source": [
    "from SayingHelloToTheWorldAllOfIt import *\n",
    "\n",
    "SayHello()\n",
    "SayHelloName(\"Hi\")\n"
   ]
  },
  {
   "cell_type": "code",
   "execution_count": null,
   "metadata": {},
   "outputs": [],
   "source": [
    "  \n",
    "  "
   ]
  }
 ],
 "metadata": {
  "kernelspec": {
   "display_name": "Python 3",
   "language": "python",
   "name": "python3"
  },
  "language_info": {
   "codemirror_mode": {
    "name": "ipython",
    "version": 3
   },
   "file_extension": ".py",
   "mimetype": "text/x-python",
   "name": "python",
   "nbconvert_exporter": "python",
   "pygments_lexer": "ipython3",
   "version": "3.10.6"
  },
  "orig_nbformat": 4
 },
 "nbformat": 4,
 "nbformat_minor": 2
}
