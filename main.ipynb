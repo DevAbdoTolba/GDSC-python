{
 "cells": [
  {
   "cell_type": "code",
   "execution_count": 17,
   "metadata": {},
   "outputs": [],
   "source": [
    "from Fifth.exception import *\n"
   ]
  },
  {
   "cell_type": "code",
   "execution_count": null,
   "metadata": {},
   "outputs": [],
   "source": [
    "from Sixth.file import *"
   ]
  },
  {
   "attachments": {},
   "cell_type": "markdown",
   "metadata": {},
   "source": [
    "# =====================================================================================================\n",
    "# ======================================================================= EXCEPTION ===================\n",
    "# ====================================================================================================="
   ]
  },
  {
   "cell_type": "code",
   "execution_count": 25,
   "metadata": {},
   "outputs": [
    {
     "ename": "SyntaxError",
     "evalue": "unterminated string literal (detected at line 2) (992511790.py, line 2)",
     "output_type": "error",
     "traceback": [
      "\u001b[0;36m  Cell \u001b[0;32mIn[25], line 2\u001b[0;36m\u001b[0m\n\u001b[0;31m    print(\"Hello World)\u001b[0m\n\u001b[0m          ^\u001b[0m\n\u001b[0;31mSyntaxError\u001b[0m\u001b[0;31m:\u001b[0m unterminated string literal (detected at line 2)\n"
     ]
    }
   ],
   "source": [
    "#  syntax Error\n",
    "print(\"Hello World)\n",
    "\n",
    "\n"
   ]
  },
  {
   "cell_type": "code",
   "execution_count": 26,
   "metadata": {},
   "outputs": [
    {
     "ename": "ValueError",
     "evalue": "invalid literal for int() with base 10: 'Hello'",
     "output_type": "error",
     "traceback": [
      "\u001b[0;31m---------------------------------------------------------------------------\u001b[0m",
      "\u001b[0;31mValueError\u001b[0m                                Traceback (most recent call last)",
      "Cell \u001b[0;32mIn[26], line 2\u001b[0m\n\u001b[1;32m      1\u001b[0m valueError\n\u001b[0;32m----> 2\u001b[0m x \u001b[39m=\u001b[39m \u001b[39mint\u001b[39;49m(\u001b[39m\"\u001b[39;49m\u001b[39mHello\u001b[39;49m\u001b[39m\"\u001b[39;49m) \u001b[39m#! You can't convert a string that doesn't represents a number into an integer\u001b[39;00m\n",
      "\u001b[0;31mValueError\u001b[0m: invalid literal for int() with base 10: 'Hello'"
     ]
    }
   ],
   "source": [
    "\n",
    "valueError\n",
    "x = int(\"Hello\") #! You can't convert a string that doesn't represents a number into an integer\n"
   ]
  },
  {
   "cell_type": "code",
   "execution_count": 23,
   "metadata": {},
   "outputs": [
    {
     "ename": "ValueError",
     "evalue": "invalid literal for int() with base 10: 'hi'",
     "output_type": "error",
     "traceback": [
      "\u001b[0;31m---------------------------------------------------------------------------\u001b[0m",
      "\u001b[0;31mValueError\u001b[0m                                Traceback (most recent call last)",
      "Cell \u001b[0;32mIn[23], line 4\u001b[0m\n\u001b[1;32m      1\u001b[0m nameError\n\u001b[1;32m      3\u001b[0m x \u001b[39m=\u001b[39m \u001b[39m1\u001b[39m\n\u001b[0;32m----> 4\u001b[0m x \u001b[39m=\u001b[39m x \u001b[39m+\u001b[39m \u001b[39mint\u001b[39;49m(\u001b[39m\"\u001b[39;49m\u001b[39mhi\u001b[39;49m\u001b[39m\"\u001b[39;49m)\n\u001b[1;32m      6\u001b[0m \u001b[39mprint\u001b[39m(x) \u001b[39m# ! X is never defined!\u001b[39;00m\n",
      "\u001b[0;31mValueError\u001b[0m: invalid literal for int() with base 10: 'hi'"
     ]
    }
   ],
   "source": [
    "\n",
    "nameError\n",
    "\n",
    "x = 1\n",
    "x = x + int(\"hi\")\n",
    "\n",
    "print(x) # ! X is never defined!\n",
    "\n",
    "\n"
   ]
  },
  {
   "cell_type": "code",
   "execution_count": 27,
   "metadata": {},
   "outputs": [
    {
     "ename": "TypeError",
     "evalue": "unsupported operand type(s) for +: 'int' and 'str'",
     "output_type": "error",
     "traceback": [
      "\u001b[0;31m---------------------------------------------------------------------------\u001b[0m",
      "\u001b[0;31mTypeError\u001b[0m                                 Traceback (most recent call last)",
      "Cell \u001b[0;32mIn[27], line 2\u001b[0m\n\u001b[1;32m      1\u001b[0m typeError\n\u001b[0;32m----> 2\u001b[0m \u001b[39mprint\u001b[39m(\u001b[39m5\u001b[39;49m \u001b[39m+\u001b[39;49m \u001b[39m\"\u001b[39;49m\u001b[39m5\u001b[39;49m\u001b[39m\"\u001b[39;49m) \u001b[39m#! You can't add a string to an integer, you must convert the string to an integer first\u001b[39;00m\n",
      "\u001b[0;31mTypeError\u001b[0m: unsupported operand type(s) for +: 'int' and 'str'"
     ]
    }
   ],
   "source": [
    "\n",
    "typeError\n",
    "print(5 + \"5\") #! You can't add a string to an integer, you must convert the string to an integer first\n"
   ]
  },
  {
   "cell_type": "code",
   "execution_count": 44,
   "metadata": {},
   "outputs": [
    {
     "name": "stdout",
     "output_type": "stream",
     "text": [
      "division by zero\n",
      "the digit is good for operation\n"
     ]
    }
   ],
   "source": [
    "Digit = 0 \n",
    "\n",
    "try :\n",
    "\n",
    "    d = 6  /0 \n",
    "\n",
    "\n",
    "except Exception as e:\n",
    "    print(e)\n",
    "\n",
    "else :\n",
    "\n",
    "    print(Digit)\n",
    "\n",
    "finally :\n",
    "\n",
    "    print(\"the digit is good for operation\")\n"
   ]
  },
  {
   "cell_type": "code",
   "execution_count": 47,
   "metadata": {},
   "outputs": [
    {
     "name": "stdout",
     "output_type": "stream",
     "text": [
      "inside except block\n",
      "local variable 'x' referenced before assignment\n",
      "The 'try except' is finished\n"
     ]
    }
   ],
   "source": [
    "\n",
    "x = 3\n",
    "\n",
    "exception(x) # 1 is no error, 2 syntax, 3 value, 4 name\n",
    "\n"
   ]
  },
  {
   "cell_type": "code",
   "execution_count": null,
   "metadata": {},
   "outputs": [],
   "source": [
    "# error() # TODO This will raise an error \n",
    "\n",
    "\n",
    "# XMOD self taught # TODO :D"
   ]
  },
  {
   "cell_type": "code",
   "execution_count": 48,
   "metadata": {},
   "outputs": [
    {
     "name": "stdout",
     "output_type": "stream",
     "text": [
      "Exception reporting mode: Plain\n"
     ]
    },
    {
     "ename": "ZeroDivisionError",
     "evalue": "division by zero",
     "output_type": "error",
     "traceback": [
      "Traceback \u001b[0;36m(most recent call last)\u001b[0m:\n",
      "\u001b[0m  Cell \u001b[1;32mIn[48], line 9\u001b[0m\n    call_divide_by_zero()\u001b[0m\n",
      "\u001b[0m  Cell \u001b[1;32mIn[48], line 7\u001b[0m in \u001b[1;35mcall_divide_by_zero\u001b[0m\n    divide_by_zero()\u001b[0m\n",
      "\u001b[0;36m  Cell \u001b[0;32mIn[48], line 4\u001b[0;36m in \u001b[0;35mdivide_by_zero\u001b[0;36m\n\u001b[0;31m    return 1/0\u001b[0;36m\n",
      "\u001b[0;31mZeroDivisionError\u001b[0m\u001b[0;31m:\u001b[0m division by zero\n"
     ]
    }
   ],
   "source": [
    "%xmode Plain\n",
    "\n",
    "def divide_by_zero():\n",
    "    return 1/0\n",
    "    \n",
    "def call_divide_by_zero():\n",
    "    divide_by_zero()\n",
    "    \n",
    "call_divide_by_zero()\n"
   ]
  },
  {
   "cell_type": "code",
   "execution_count": 49,
   "metadata": {},
   "outputs": [
    {
     "name": "stdout",
     "output_type": "stream",
     "text": [
      "Exception reporting mode: Verbose\n"
     ]
    },
    {
     "ename": "ZeroDivisionError",
     "evalue": "division by zero",
     "output_type": "error",
     "traceback": [
      "\u001b[0;31m---------------------------------------------------------------------------\u001b[0m",
      "\u001b[0;31mZeroDivisionError\u001b[0m                         Traceback (most recent call last)",
      "Cell \u001b[0;32mIn[49], line 12\u001b[0m\n\u001b[1;32m      9\u001b[0m     c \u001b[39m=\u001b[39m a\u001b[39m/\u001b[39mb\n\u001b[1;32m     10\u001b[0m     divide_by_zero()\n\u001b[0;32m---> 12\u001b[0m call_divide_by_zero()\n",
      "Cell \u001b[0;32mIn[49], line 9\u001b[0m, in \u001b[0;36mcall_divide_by_zero\u001b[0;34m()\u001b[0m\n\u001b[1;32m      7\u001b[0m a \u001b[39m=\u001b[39m \u001b[39m5\u001b[39m\n\u001b[1;32m      8\u001b[0m b \u001b[39m=\u001b[39m \u001b[39m0\u001b[39m\n\u001b[0;32m----> 9\u001b[0m c \u001b[39m=\u001b[39m a\u001b[39m/\u001b[39;49mb\n        a \u001b[0;34m= 5\u001b[0m\u001b[0;34m\n        \u001b[0mb \u001b[0;34m= 0\u001b[0m\n\u001b[1;32m     10\u001b[0m divide_by_zero()\n",
      "\u001b[0;31mZeroDivisionError\u001b[0m: division by zero"
     ]
    }
   ],
   "source": [
    "%xmode Verbose\n",
    "\n",
    "def divide_by_zero():\n",
    "    return 1/0\n",
    "    \n",
    "def call_divide_by_zero():\n",
    "    a = 5\n",
    "    b = 0\n",
    "    c = a/b\n",
    "    divide_by_zero()\n",
    "    \n",
    "call_divide_by_zero()"
   ]
  },
  {
   "cell_type": "code",
   "execution_count": 50,
   "metadata": {},
   "outputs": [
    {
     "name": "stdout",
     "output_type": "stream",
     "text": [
      "Exception reporting mode: Context\n"
     ]
    },
    {
     "ename": "ZeroDivisionError",
     "evalue": "division by zero",
     "output_type": "error",
     "traceback": [
      "\u001b[0;31m---------------------------------------------------------------------------\u001b[0m",
      "\u001b[0;31mZeroDivisionError\u001b[0m                         Traceback (most recent call last)",
      "Cell \u001b[0;32mIn[50], line 9\u001b[0m\n\u001b[1;32m      6\u001b[0m \u001b[39mdef\u001b[39;00m \u001b[39mcall_divide_by_zero\u001b[39m():\n\u001b[1;32m      7\u001b[0m     divide_by_zero()\n\u001b[0;32m----> 9\u001b[0m call_divide_by_zero()\n",
      "Cell \u001b[0;32mIn[50], line 7\u001b[0m, in \u001b[0;36mcall_divide_by_zero\u001b[0;34m()\u001b[0m\n\u001b[1;32m      6\u001b[0m \u001b[39mdef\u001b[39;00m \u001b[39mcall_divide_by_zero\u001b[39m():\n\u001b[0;32m----> 7\u001b[0m     divide_by_zero()\n",
      "Cell \u001b[0;32mIn[50], line 4\u001b[0m, in \u001b[0;36mdivide_by_zero\u001b[0;34m()\u001b[0m\n\u001b[1;32m      3\u001b[0m \u001b[39mdef\u001b[39;00m \u001b[39mdivide_by_zero\u001b[39m():\n\u001b[0;32m----> 4\u001b[0m     \u001b[39mreturn\u001b[39;00m \u001b[39m1\u001b[39;49m\u001b[39m/\u001b[39;49m\u001b[39m0\u001b[39;49m\n",
      "\u001b[0;31mZeroDivisionError\u001b[0m: division by zero"
     ]
    }
   ],
   "source": [
    "%xmode Context\n",
    "\n",
    "def divide_by_zero():\n",
    "    return 1/0\n",
    "    \n",
    "def call_divide_by_zero():\n",
    "    divide_by_zero()\n",
    "    \n",
    "call_divide_by_zero()\n"
   ]
  },
  {
   "cell_type": "code",
   "execution_count": 51,
   "metadata": {},
   "outputs": [
    {
     "ename": "IndexError",
     "evalue": "list index out of range",
     "output_type": "error",
     "traceback": [
      "\u001b[0;31m---------------------------------------------------------------------------\u001b[0m",
      "\u001b[0;31mIndexError\u001b[0m                                Traceback (most recent call last)",
      "Cell \u001b[0;32mIn[51], line 1\u001b[0m\n\u001b[0;32m----> 1\u001b[0m indexError()\n",
      "File \u001b[0;32m/mnt/74229179229140D2/Projects/Coding/VSCode/Python/GDSC python/Fifth/exception.py:118\u001b[0m, in \u001b[0;36mindexError\u001b[0;34m()\u001b[0m\n\u001b[1;32m    114\u001b[0m \u001b[39mdef\u001b[39;00m \u001b[39merror\u001b[39m():\n\u001b[1;32m    115\u001b[0m \u001b[39m    \u001b[39m\u001b[39m\"\"\"\u001b[39;00m\n\u001b[1;32m    116\u001b[0m \u001b[39m    This function will raise an error.\u001b[39;00m\n\u001b[1;32m    117\u001b[0m \u001b[39m    \"\"\"\u001b[39;00m\n\u001b[0;32m--> 118\u001b[0m     \u001b[39mraise\u001b[39;00m \u001b[39mException\u001b[39;00m(\u001b[39m\"\u001b[39m\u001b[39mHeello :>\u001b[39m\u001b[39m\\n\u001b[39;00m\u001b[39m I am an error for no reason :D\u001b[39m\u001b[39m\"\u001b[39m)\n",
      "\u001b[0;31mIndexError\u001b[0m: list index out of range"
     ]
    }
   ],
   "source": [
    "indexError()"
   ]
  },
  {
   "cell_type": "code",
   "execution_count": 64,
   "metadata": {},
   "outputs": [
    {
     "ename": "Exception",
     "evalue": "You can't transfer more than 3000",
     "output_type": "error",
     "traceback": [
      "\u001b[0;31m---------------------------------------------------------------------------\u001b[0m",
      "\u001b[0;31mException\u001b[0m                                 Traceback (most recent call last)",
      "Cell \u001b[0;32mIn[64], line 9\u001b[0m\n\u001b[1;32m      6\u001b[0m     \u001b[39melse\u001b[39;00m : \n\u001b[1;32m      7\u001b[0m         \u001b[39mraise\u001b[39;00m \u001b[39mException\u001b[39;00m(\u001b[39m\"\u001b[39m\u001b[39mYou can\u001b[39m\u001b[39m'\u001b[39m\u001b[39mt transfer more than 3000\u001b[39m\u001b[39m\"\u001b[39m)\n\u001b[0;32m----> 9\u001b[0m wdm(\u001b[39m6000\u001b[39;49m)\n",
      "Cell \u001b[0;32mIn[64], line 7\u001b[0m, in \u001b[0;36mwdm\u001b[0;34m(amount)\u001b[0m\n\u001b[1;32m      5\u001b[0m     \u001b[39mprint\u001b[39m(\u001b[39m\"\u001b[39m\u001b[39mtransfer complete your balance is \u001b[39m\u001b[39m\"\u001b[39m \u001b[39m+\u001b[39m \u001b[39mstr\u001b[39m(balance))\n\u001b[1;32m      6\u001b[0m \u001b[39melse\u001b[39;00m : \n\u001b[0;32m----> 7\u001b[0m     \u001b[39mraise\u001b[39;00m \u001b[39mException\u001b[39;00m(\u001b[39m\"\u001b[39m\u001b[39mYou can\u001b[39m\u001b[39m'\u001b[39m\u001b[39mt transfer more than 3000\u001b[39m\u001b[39m\"\u001b[39m)\n",
      "\u001b[0;31mException\u001b[0m: You can't transfer more than 3000"
     ]
    }
   ],
   "source": [
    "\n",
    "def wdm(amount):\n",
    "    balance = 56845120\n",
    "    if amount <= 3000:\n",
    "        balance = balance - amount\n",
    "        print(\"transfer complete your balance is \" + str(balance))\n",
    "    else : \n",
    "        try :\n",
    "            raise Exception(\"You can't transfer more than 3000\")\n",
    "        except :\n",
    "            print(\"You can't transfer more than 3000 egp\")\n",
    "\n",
    "wdm(6000)"
   ]
  },
  {
   "attachments": {},
   "cell_type": "markdown",
   "metadata": {},
   "source": [
    "# ==============================================================================================================\n",
    "# ======================================================================= Packages & Modules ===================\n",
    "# =============================================================================================================="
   ]
  },
  {
   "cell_type": "code",
   "execution_count": 1,
   "metadata": {},
   "outputs": [
    {
     "name": "stdout",
     "output_type": "stream",
     "text": [
      "Hello World\n"
     ]
    }
   ],
   "source": [
    "import SayingHelloToTheWorldAllOfIt \n",
    "SayingHelloToTheWorldAllOfIt.SayHello()"
   ]
  },
  {
   "cell_type": "code",
   "execution_count": 5,
   "metadata": {},
   "outputs": [
    {
     "name": "stdout",
     "output_type": "stream",
     "text": [
      "Hello World\n"
     ]
    }
   ],
   "source": [
    "import SayingHelloToTheWorldAllOfIt as HelloWorld\n",
    "HelloWorld.SayHello()"
   ]
  },
  {
   "cell_type": "code",
   "execution_count": 15,
   "metadata": {},
   "outputs": [
    {
     "ename": "ImportError",
     "evalue": "cannot import name 'SayHelloName' from 'SayingHelloToTheWorldAllOfIt' (/mnt/74229179229140D2/Projects/Coding/VSCode/Python/GDSC python/SayingHelloToTheWorldAllOfIt.py)",
     "output_type": "error",
     "traceback": [
      "\u001b[0;31m---------------------------------------------------------------------------\u001b[0m",
      "\u001b[0;31mImportError\u001b[0m                               Traceback (most recent call last)",
      "Cell \u001b[0;32mIn[15], line 1\u001b[0m\n\u001b[0;32m----> 1\u001b[0m \u001b[39mfrom\u001b[39;00m \u001b[39mSayingHelloToTheWorldAllOfIt\u001b[39;00m \u001b[39mimport\u001b[39;00m SayHelloName\n\u001b[1;32m      3\u001b[0m SayHelloName(\u001b[39m\"\u001b[39m\u001b[39mHi\u001b[39m\u001b[39m\"\u001b[39m)\n",
      "\u001b[0;31mImportError\u001b[0m: cannot import name 'SayHelloName' from 'SayingHelloToTheWorldAllOfIt' (/mnt/74229179229140D2/Projects/Coding/VSCode/Python/GDSC python/SayingHelloToTheWorldAllOfIt.py)"
     ]
    }
   ],
   "source": [
    "from SayingHelloToTheWorldAllOfIt import SayHelloName\n",
    "\n",
    "SayHelloName(\"Hi\")\n"
   ]
  },
  {
   "cell_type": "code",
   "execution_count": 14,
   "metadata": {},
   "outputs": [
    {
     "ename": "ImportError",
     "evalue": "cannot import name 'SayHelloName' from 'SayingHelloToTheWorldAllOfIt' (/mnt/74229179229140D2/Projects/Coding/VSCode/Python/GDSC python/SayingHelloToTheWorldAllOfIt.py)",
     "output_type": "error",
     "traceback": [
      "\u001b[0;31m---------------------------------------------------------------------------\u001b[0m",
      "\u001b[0;31mImportError\u001b[0m                               Traceback (most recent call last)",
      "Cell \u001b[0;32mIn[14], line 1\u001b[0m\n\u001b[0;32m----> 1\u001b[0m \u001b[39mfrom\u001b[39;00m \u001b[39mSayingHelloToTheWorldAllOfIt\u001b[39;00m \u001b[39mimport\u001b[39;00m SayHelloName\n\u001b[1;32m      3\u001b[0m SayHelloName(\u001b[39m\"\u001b[39m\u001b[39mHi\u001b[39m\u001b[39m\"\u001b[39m)\n",
      "\u001b[0;31mImportError\u001b[0m: cannot import name 'SayHelloName' from 'SayingHelloToTheWorldAllOfIt' (/mnt/74229179229140D2/Projects/Coding/VSCode/Python/GDSC python/SayingHelloToTheWorldAllOfIt.py)"
     ]
    }
   ],
   "source": [
    "from SayingHelloToTheWorldAllOfIt import *\n",
    "\n",
    "SayHello()\n",
    "SayHelloName(\"Hi\")\n"
   ]
  },
  {
   "cell_type": "code",
   "execution_count": null,
   "metadata": {},
   "outputs": [],
   "source": [
    "  \n",
    "  "
   ]
  }
 ],
 "metadata": {
  "kernelspec": {
   "display_name": "Python 3",
   "language": "python",
   "name": "python3"
  },
  "language_info": {
   "codemirror_mode": {
    "name": "ipython",
    "version": 3
   },
   "file_extension": ".py",
   "mimetype": "text/x-python",
   "name": "python",
   "nbconvert_exporter": "python",
   "pygments_lexer": "ipython3",
   "version": "3.10.6"
  },
  "orig_nbformat": 4
 },
 "nbformat": 4,
 "nbformat_minor": 2
}
